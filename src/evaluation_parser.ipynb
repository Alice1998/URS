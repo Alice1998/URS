{
 "cells": [
  {
   "cell_type": "code",
   "execution_count": null,
   "metadata": {},
   "outputs": [],
   "source": [
    "import pandas as pd"
   ]
  },
  {
   "cell_type": "code",
   "execution_count": null,
   "metadata": {},
   "outputs": [],
   "source": [
    "intent_list=['all','Solve_Professional_Problem','Factual_QA','Text_Assistant','Ask_for_Advice','Seek_Creativity','Leisure']\n",
    "test_model_list=['deepseek-chat','gpt-3.5-turbo','glm-4','Baichuan2-Turbo','spark-3.5','qwen-max','gpt-4-0125-preview','ERNIE-Bot-4','moonshot-v1-8k','gpt-4','claude-3-opus-20240229','gpt-4-turbo','qwen2-72b-instruct']\n",
    "\n",
    "field=intent_list[0]\n",
    "test_model=test_model_list[-1]\n",
    "df=pd.read_csv(f'../data/evaluation_field={field}_{test_model}_evaluation.csv')"
   ]
  },
  {
   "cell_type": "code",
   "execution_count": null,
   "metadata": {},
   "outputs": [],
   "source": [
    "import re\n",
    "# 首先匹配大括号内的所有内容\n",
    "\n",
    "tag_dict={'Factual_QA':['Factuality','User Satisfaction','Clarity','Completeness','Logical Coherence','Overall'],\\\n",
    "                'Solve_Professional_Problem':['Factuality','User Satisfaction','Clarity','Logical Coherence','Completeness','Overall'],\\\n",
    "                'Text_Assistant':['Clarity','User Satisfaction','Logical Coherence','Factuality','Creativity','Overall'],\\\n",
    "                'Ask_for_Advice':['User Satisfaction','Factuality','Fairness and Responsibility','Creativity','Richness','Overall'],\\\n",
    "                'Seek_Creativity':['User Satisfaction','Logical Coherence','Creativity','Richness','Factuality','Overall'],\\\n",
    "                'Leisure':['User Satisfaction','Engagement','Appropriateness','Creativity','Factuality','Overall']}\n",
    "\n",
    "# tag_list=tag_dict[field]\n",
    "\n",
    "def extract_data(test_str,intent):\n",
    "    flag=0\n",
    "    tag_list=tag_dict[intent].copy()\n",
    "    pattern_general = r'\\{[^}]+\\}'\n",
    "    # 使用正则表达式搜索\n",
    "    # general_match = re.search(pattern_general, test_str)\n",
    "    general_match = re.findall(pattern_general, test_str)\n",
    "    # 如果找到匹配项，进一步处理\n",
    "    result_dict = {}\n",
    "    ans_dict={}\n",
    "    if general_match:\n",
    "        matched_str=general_match[-1]\n",
    "        final_ans_tag_list=['综合得分','Overall','总得分','Overall Score','总分','overall','Total Score','Final Score','总分数','综合评分']\n",
    "        for ans_tag in final_ans_tag_list:\n",
    "            tag_list[-1]=ans_tag\n",
    "\n",
    "            pattern_fields = '|'.join([f'(?:\\'|\\\"|’|‘)?{re.escape(tag)}(?:\\'|\\\"|’|‘)?\\s*:\\s*(\\d+)' for tag in tag_list])\n",
    "    \n",
    "            fields_matches = re.findall(pattern_fields, matched_str)\n",
    "            for i, tag in enumerate(tag_list):\n",
    "                for match in fields_matches:\n",
    "                    if match[i]:\n",
    "                        result_dict[tag] = int(match[i])\n",
    "                        break\n",
    "            if ans_tag in result_dict:\n",
    "                ans_dict={}\n",
    "                for key in result_dict:\n",
    "                    if key!=ans_tag:\n",
    "                        ans_dict[key]=result_dict[key]\n",
    "                ans_dict['Overall']=result_dict[ans_tag]\n",
    "                flag=1\n",
    "                break\n",
    "            result_dict = {}\n",
    "    if flag==0:\n",
    "        print(\"ERROR! type 2\")\n",
    "        print(result_dict)\n",
    "        print(test_str)\n",
    "    # 输出结果\n",
    "    # print(result_dict)\n",
    "    return ans_dict"
   ]
  },
  {
   "cell_type": "code",
   "execution_count": null,
   "metadata": {},
   "outputs": [],
   "source": [
    "for index,row in df.iterrows():\n",
    "    test_str=row['evaluation']\n",
    "    if 'user_intent' in df.columns:\n",
    "        intent=row['user_intent']\n",
    "    else:\n",
    "        intent=field\n",
    "    ans_dict=extract_data(test_str,intent)\n",
    "    # print(ans_dict)\n",
    "    for key in ans_dict:\n",
    "        df.loc[index,key]=ans_dict[key]"
   ]
  },
  {
   "cell_type": "code",
   "execution_count": null,
   "metadata": {},
   "outputs": [],
   "source": [
    "df.to_csv(f'../data/finalScore_field={field}_LLM={test_model}.csv',encoding='utf-8-sig',index=False)"
   ]
  }
 ],
 "metadata": {
  "kernelspec": {
   "display_name": "Python 3",
   "language": "python",
   "name": "python3"
  },
  "language_info": {
   "codemirror_mode": {
    "name": "ipython",
    "version": 3
   },
   "file_extension": ".py",
   "mimetype": "text/x-python",
   "name": "python",
   "nbconvert_exporter": "python",
   "pygments_lexer": "ipython3",
   "version": "3.9.2"
  }
 },
 "nbformat": 4,
 "nbformat_minor": 2
}
